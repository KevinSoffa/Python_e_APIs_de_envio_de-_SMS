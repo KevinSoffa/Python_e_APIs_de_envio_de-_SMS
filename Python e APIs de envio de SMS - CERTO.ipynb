{
 "cells": [
  {
   "cell_type": "markdown",
   "metadata": {},
   "source": [
    "# Kevin Soffa\n",
    "\n",
    "## Python e APIs de envio de SMS \n",
    "### Twilio"
   ]
  },
  {
   "cell_type": "code",
   "execution_count": 1,
   "metadata": {},
   "outputs": [
    {
     "name": "stdout",
     "output_type": "stream",
     "text": [
      "Mensagem enviada com SUCESSO\n"
     ]
    }
   ],
   "source": [
    "# importando biblioteca necessária\n",
    "from twilio.rest import Client\n",
    "\n",
    "\n",
    "# Dados da conta Twilio\n",
    "account_sid = 'xxxxxxxxxxxxxx' # Dados fictícios\n",
    "token = 'yyyyyyyyyyyyy' # Dados fictícios\n",
    "\n",
    "client = Client(account_sid, token)\n",
    "\n",
    "# Número Twilio e número a receber (Dados fictícios)\n",
    "enviar = '+16348588888'\n",
    "receber = '+55118888888888'\n",
    "\n",
    "# Corpo da mensagem: De, Para e conteúdo\n",
    "message = client.messages.create(\n",
    "    to= receber, \n",
    "    from_= enviar,\n",
    "    body=\"Hello from Python! Kevin Soffa. Mensagem enviada via Python\")\n",
    "\n",
    "print('Mensagem enviada com SUCESSO')\n"
   ]
  }
 ],
 "metadata": {
  "kernelspec": {
   "display_name": "Python 3",
   "language": "python",
   "name": "python3"
  },
  "language_info": {
   "codemirror_mode": {
    "name": "ipython",
    "version": 3
   },
   "file_extension": ".py",
   "mimetype": "text/x-python",
   "name": "python",
   "nbconvert_exporter": "python",
   "pygments_lexer": "ipython3",
   "version": "3.8.8"
  }
 },
 "nbformat": 4,
 "nbformat_minor": 4
}
